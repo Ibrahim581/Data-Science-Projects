{
  "nbformat": 4,
  "nbformat_minor": 0,
  "metadata": {
    "colab": {
      "provenance": []
    },
    "kernelspec": {
      "name": "python3",
      "display_name": "Python 3"
    },
    "language_info": {
      "name": "python"
    }
  },
  "cells": [
    {
      "cell_type": "markdown",
      "source": [
        "# Building an end-to-end data pipeline\n",
        "\n",
        "## By: Ibrahim Noman"
      ],
      "metadata": {
        "id": "hPnQUTyhbUQn"
      }
    },
    {
      "cell_type": "markdown",
      "source": [
        "In this project, I will be creating a data pipeline that takes in [air quality data](https://aqs.epa.gov/aqsweb/documents/data_api.html#daily) and stores it in SQLite Database. Then, conduct data analysis to derive insight into the air quality index. The goal of this project is to understand how the distribution of air quality looks between two different forms of living: urban and suburban."
      ],
      "metadata": {
        "id": "D9kGHHCHvAOI"
      }
    },
    {
      "cell_type": "markdown",
      "source": [
        "## Importing libraries"
      ],
      "metadata": {
        "id": "vtgYyzqpd9Cp"
      }
    },
    {
      "cell_type": "code",
      "execution_count": 1,
      "metadata": {
        "id": "Rdw_7z5XbODR"
      },
      "outputs": [],
      "source": [
        "import requests as rq\n",
        "import pandas as pd\n",
        "import sqlite3 as sq\n",
        "import matplotlib.pyplot as mp"
      ]
    },
    {
      "cell_type": "markdown",
      "source": [
        "## Using the requests library we will retrieve the data\n",
        "\n",
        "\n",
        "\n",
        "*   For api-key and endpoint formatting, visit the air quality data hyperlink above\n",
        "\n",
        "\n",
        "*   NOTE: this API key has been changed and this chunk won't run\n",
        "\n",
        "\n",
        "\n",
        "\n"
      ],
      "metadata": {
        "id": "yAwcBqSEePos"
      }
    },
    {
      "cell_type": "code",
      "source": [
        "# Formatting the endpoint\n",
        "endpoint = \"https://aqs.epa.gov/data/api/dailyData/byCounty?email=ibrahim.noman788@gmail.com&key=bluegoose83&param=88101&bdate=20240101&edate=20240131&state=48&county=201\"\n",
        "\n",
        "# Using the get function in the requests library\n",
        "response = rq.get(endpoint)\n",
        "\n",
        "# catching errors\n",
        "if response.status_code == 200:\n",
        "    data = response.json()\n",
        "else:\n",
        "    print(f\"Error: {response.status_code}\")"
      ],
      "metadata": {
        "id": "WQq-hLkNeONq"
      },
      "execution_count": 2,
      "outputs": []
    },
    {
      "cell_type": "markdown",
      "source": [
        "## Data Cleaning\n",
        "\n",
        "To perform analysis, we will first need to:\n",
        "\n",
        "\n",
        "\n",
        "*   Convert our data into a Pandas df\n",
        "*   Select useful columns\n",
        "\n"
      ],
      "metadata": {
        "id": "xvz9HQ3Ml5rB"
      }
    },
    {
      "cell_type": "code",
      "source": [
        "# JSON to Pandas df\n",
        "json_data = data['Data']\n",
        "df = pd.DataFrame(json_data)\n",
        "\n",
        "# Selecting columns\n",
        "df_sub = df[['county', 'city', 'local_site_name', 'date_local', 'sample_duration', 'parameter', 'poc', 'observation_count',\n",
        "       'observation_percent', 'arithmetic_mean',\n",
        "       'first_max_value', 'first_max_hour', 'aqi']]\n",
        "\n",
        "df_sub.head(10)"
      ],
      "metadata": {
        "colab": {
          "base_uri": "https://localhost:8080/",
          "height": 363
        },
        "id": "lPZb7ucru8ZI",
        "outputId": "661ca078-3166-458b-ea3a-279a84eac496"
      },
      "execution_count": 3,
      "outputs": [
        {
          "output_type": "execute_result",
          "data": {
            "text/plain": [
              "   county     city       local_site_name  date_local sample_duration  \\\n",
              "0  Harris  Houston  Houston Bayland Park  2024-01-01          1 HOUR   \n",
              "1  Harris  Houston  Houston Bayland Park  2024-01-01   24-HR BLK AVG   \n",
              "2  Harris  Houston  Houston Bayland Park  2024-01-01   24-HR BLK AVG   \n",
              "3  Harris  Houston  Houston Bayland Park  2024-01-01   24-HR BLK AVG   \n",
              "4  Harris  Houston  Houston Bayland Park  2024-01-01   24-HR BLK AVG   \n",
              "5  Harris  Houston  Houston Bayland Park  2024-01-01   24-HR BLK AVG   \n",
              "6  Harris  Houston  Houston Bayland Park  2024-01-01   24-HR BLK AVG   \n",
              "7  Harris  Houston  Houston Bayland Park  2024-01-01   24-HR BLK AVG   \n",
              "8  Harris  Houston  Houston Bayland Park  2024-01-01   24-HR BLK AVG   \n",
              "9  Harris  Houston  Houston Bayland Park  2024-01-02          1 HOUR   \n",
              "\n",
              "                  parameter  poc  observation_count  observation_percent  \\\n",
              "0  PM2.5 - Local Conditions    1                 24                100.0   \n",
              "1  PM2.5 - Local Conditions    1                  1                100.0   \n",
              "2  PM2.5 - Local Conditions    1                  1                100.0   \n",
              "3  PM2.5 - Local Conditions    1                  1                100.0   \n",
              "4  PM2.5 - Local Conditions    1                  1                100.0   \n",
              "5  PM2.5 - Local Conditions    1                  1                100.0   \n",
              "6  PM2.5 - Local Conditions    1                  1                100.0   \n",
              "7  PM2.5 - Local Conditions    1                  1                100.0   \n",
              "8  PM2.5 - Local Conditions    1                  1                100.0   \n",
              "9  PM2.5 - Local Conditions    1                 22                 92.0   \n",
              "\n",
              "   arithmetic_mean  first_max_value  first_max_hour    aqi  \n",
              "0        68.891667            415.0               0    NaN  \n",
              "1        68.800000             68.8               0  160.0  \n",
              "2        68.800000             68.8               0  160.0  \n",
              "3        68.800000             68.8               0  160.0  \n",
              "4        68.800000             68.8               0  160.0  \n",
              "5        68.800000             68.8               0  160.0  \n",
              "6        68.800000             68.8               0  160.0  \n",
              "7        68.800000             68.8               0  160.0  \n",
              "8        68.800000             68.8               0  160.0  \n",
              "9        10.113636             15.2              14    NaN  "
            ],
            "text/html": [
              "\n",
              "  <div id=\"df-4de1ab9b-27f6-4ba6-a598-1af87668c27e\" class=\"colab-df-container\">\n",
              "    <div>\n",
              "<style scoped>\n",
              "    .dataframe tbody tr th:only-of-type {\n",
              "        vertical-align: middle;\n",
              "    }\n",
              "\n",
              "    .dataframe tbody tr th {\n",
              "        vertical-align: top;\n",
              "    }\n",
              "\n",
              "    .dataframe thead th {\n",
              "        text-align: right;\n",
              "    }\n",
              "</style>\n",
              "<table border=\"1\" class=\"dataframe\">\n",
              "  <thead>\n",
              "    <tr style=\"text-align: right;\">\n",
              "      <th></th>\n",
              "      <th>county</th>\n",
              "      <th>city</th>\n",
              "      <th>local_site_name</th>\n",
              "      <th>date_local</th>\n",
              "      <th>sample_duration</th>\n",
              "      <th>parameter</th>\n",
              "      <th>poc</th>\n",
              "      <th>observation_count</th>\n",
              "      <th>observation_percent</th>\n",
              "      <th>arithmetic_mean</th>\n",
              "      <th>first_max_value</th>\n",
              "      <th>first_max_hour</th>\n",
              "      <th>aqi</th>\n",
              "    </tr>\n",
              "  </thead>\n",
              "  <tbody>\n",
              "    <tr>\n",
              "      <th>0</th>\n",
              "      <td>Harris</td>\n",
              "      <td>Houston</td>\n",
              "      <td>Houston Bayland Park</td>\n",
              "      <td>2024-01-01</td>\n",
              "      <td>1 HOUR</td>\n",
              "      <td>PM2.5 - Local Conditions</td>\n",
              "      <td>1</td>\n",
              "      <td>24</td>\n",
              "      <td>100.0</td>\n",
              "      <td>68.891667</td>\n",
              "      <td>415.0</td>\n",
              "      <td>0</td>\n",
              "      <td>NaN</td>\n",
              "    </tr>\n",
              "    <tr>\n",
              "      <th>1</th>\n",
              "      <td>Harris</td>\n",
              "      <td>Houston</td>\n",
              "      <td>Houston Bayland Park</td>\n",
              "      <td>2024-01-01</td>\n",
              "      <td>24-HR BLK AVG</td>\n",
              "      <td>PM2.5 - Local Conditions</td>\n",
              "      <td>1</td>\n",
              "      <td>1</td>\n",
              "      <td>100.0</td>\n",
              "      <td>68.800000</td>\n",
              "      <td>68.8</td>\n",
              "      <td>0</td>\n",
              "      <td>160.0</td>\n",
              "    </tr>\n",
              "    <tr>\n",
              "      <th>2</th>\n",
              "      <td>Harris</td>\n",
              "      <td>Houston</td>\n",
              "      <td>Houston Bayland Park</td>\n",
              "      <td>2024-01-01</td>\n",
              "      <td>24-HR BLK AVG</td>\n",
              "      <td>PM2.5 - Local Conditions</td>\n",
              "      <td>1</td>\n",
              "      <td>1</td>\n",
              "      <td>100.0</td>\n",
              "      <td>68.800000</td>\n",
              "      <td>68.8</td>\n",
              "      <td>0</td>\n",
              "      <td>160.0</td>\n",
              "    </tr>\n",
              "    <tr>\n",
              "      <th>3</th>\n",
              "      <td>Harris</td>\n",
              "      <td>Houston</td>\n",
              "      <td>Houston Bayland Park</td>\n",
              "      <td>2024-01-01</td>\n",
              "      <td>24-HR BLK AVG</td>\n",
              "      <td>PM2.5 - Local Conditions</td>\n",
              "      <td>1</td>\n",
              "      <td>1</td>\n",
              "      <td>100.0</td>\n",
              "      <td>68.800000</td>\n",
              "      <td>68.8</td>\n",
              "      <td>0</td>\n",
              "      <td>160.0</td>\n",
              "    </tr>\n",
              "    <tr>\n",
              "      <th>4</th>\n",
              "      <td>Harris</td>\n",
              "      <td>Houston</td>\n",
              "      <td>Houston Bayland Park</td>\n",
              "      <td>2024-01-01</td>\n",
              "      <td>24-HR BLK AVG</td>\n",
              "      <td>PM2.5 - Local Conditions</td>\n",
              "      <td>1</td>\n",
              "      <td>1</td>\n",
              "      <td>100.0</td>\n",
              "      <td>68.800000</td>\n",
              "      <td>68.8</td>\n",
              "      <td>0</td>\n",
              "      <td>160.0</td>\n",
              "    </tr>\n",
              "    <tr>\n",
              "      <th>5</th>\n",
              "      <td>Harris</td>\n",
              "      <td>Houston</td>\n",
              "      <td>Houston Bayland Park</td>\n",
              "      <td>2024-01-01</td>\n",
              "      <td>24-HR BLK AVG</td>\n",
              "      <td>PM2.5 - Local Conditions</td>\n",
              "      <td>1</td>\n",
              "      <td>1</td>\n",
              "      <td>100.0</td>\n",
              "      <td>68.800000</td>\n",
              "      <td>68.8</td>\n",
              "      <td>0</td>\n",
              "      <td>160.0</td>\n",
              "    </tr>\n",
              "    <tr>\n",
              "      <th>6</th>\n",
              "      <td>Harris</td>\n",
              "      <td>Houston</td>\n",
              "      <td>Houston Bayland Park</td>\n",
              "      <td>2024-01-01</td>\n",
              "      <td>24-HR BLK AVG</td>\n",
              "      <td>PM2.5 - Local Conditions</td>\n",
              "      <td>1</td>\n",
              "      <td>1</td>\n",
              "      <td>100.0</td>\n",
              "      <td>68.800000</td>\n",
              "      <td>68.8</td>\n",
              "      <td>0</td>\n",
              "      <td>160.0</td>\n",
              "    </tr>\n",
              "    <tr>\n",
              "      <th>7</th>\n",
              "      <td>Harris</td>\n",
              "      <td>Houston</td>\n",
              "      <td>Houston Bayland Park</td>\n",
              "      <td>2024-01-01</td>\n",
              "      <td>24-HR BLK AVG</td>\n",
              "      <td>PM2.5 - Local Conditions</td>\n",
              "      <td>1</td>\n",
              "      <td>1</td>\n",
              "      <td>100.0</td>\n",
              "      <td>68.800000</td>\n",
              "      <td>68.8</td>\n",
              "      <td>0</td>\n",
              "      <td>160.0</td>\n",
              "    </tr>\n",
              "    <tr>\n",
              "      <th>8</th>\n",
              "      <td>Harris</td>\n",
              "      <td>Houston</td>\n",
              "      <td>Houston Bayland Park</td>\n",
              "      <td>2024-01-01</td>\n",
              "      <td>24-HR BLK AVG</td>\n",
              "      <td>PM2.5 - Local Conditions</td>\n",
              "      <td>1</td>\n",
              "      <td>1</td>\n",
              "      <td>100.0</td>\n",
              "      <td>68.800000</td>\n",
              "      <td>68.8</td>\n",
              "      <td>0</td>\n",
              "      <td>160.0</td>\n",
              "    </tr>\n",
              "    <tr>\n",
              "      <th>9</th>\n",
              "      <td>Harris</td>\n",
              "      <td>Houston</td>\n",
              "      <td>Houston Bayland Park</td>\n",
              "      <td>2024-01-02</td>\n",
              "      <td>1 HOUR</td>\n",
              "      <td>PM2.5 - Local Conditions</td>\n",
              "      <td>1</td>\n",
              "      <td>22</td>\n",
              "      <td>92.0</td>\n",
              "      <td>10.113636</td>\n",
              "      <td>15.2</td>\n",
              "      <td>14</td>\n",
              "      <td>NaN</td>\n",
              "    </tr>\n",
              "  </tbody>\n",
              "</table>\n",
              "</div>\n",
              "    <div class=\"colab-df-buttons\">\n",
              "\n",
              "  <div class=\"colab-df-container\">\n",
              "    <button class=\"colab-df-convert\" onclick=\"convertToInteractive('df-4de1ab9b-27f6-4ba6-a598-1af87668c27e')\"\n",
              "            title=\"Convert this dataframe to an interactive table.\"\n",
              "            style=\"display:none;\">\n",
              "\n",
              "  <svg xmlns=\"http://www.w3.org/2000/svg\" height=\"24px\" viewBox=\"0 -960 960 960\">\n",
              "    <path d=\"M120-120v-720h720v720H120Zm60-500h600v-160H180v160Zm220 220h160v-160H400v160Zm0 220h160v-160H400v160ZM180-400h160v-160H180v160Zm440 0h160v-160H620v160ZM180-180h160v-160H180v160Zm440 0h160v-160H620v160Z\"/>\n",
              "  </svg>\n",
              "    </button>\n",
              "\n",
              "  <style>\n",
              "    .colab-df-container {\n",
              "      display:flex;\n",
              "      gap: 12px;\n",
              "    }\n",
              "\n",
              "    .colab-df-convert {\n",
              "      background-color: #E8F0FE;\n",
              "      border: none;\n",
              "      border-radius: 50%;\n",
              "      cursor: pointer;\n",
              "      display: none;\n",
              "      fill: #1967D2;\n",
              "      height: 32px;\n",
              "      padding: 0 0 0 0;\n",
              "      width: 32px;\n",
              "    }\n",
              "\n",
              "    .colab-df-convert:hover {\n",
              "      background-color: #E2EBFA;\n",
              "      box-shadow: 0px 1px 2px rgba(60, 64, 67, 0.3), 0px 1px 3px 1px rgba(60, 64, 67, 0.15);\n",
              "      fill: #174EA6;\n",
              "    }\n",
              "\n",
              "    .colab-df-buttons div {\n",
              "      margin-bottom: 4px;\n",
              "    }\n",
              "\n",
              "    [theme=dark] .colab-df-convert {\n",
              "      background-color: #3B4455;\n",
              "      fill: #D2E3FC;\n",
              "    }\n",
              "\n",
              "    [theme=dark] .colab-df-convert:hover {\n",
              "      background-color: #434B5C;\n",
              "      box-shadow: 0px 1px 3px 1px rgba(0, 0, 0, 0.15);\n",
              "      filter: drop-shadow(0px 1px 2px rgba(0, 0, 0, 0.3));\n",
              "      fill: #FFFFFF;\n",
              "    }\n",
              "  </style>\n",
              "\n",
              "    <script>\n",
              "      const buttonEl =\n",
              "        document.querySelector('#df-4de1ab9b-27f6-4ba6-a598-1af87668c27e button.colab-df-convert');\n",
              "      buttonEl.style.display =\n",
              "        google.colab.kernel.accessAllowed ? 'block' : 'none';\n",
              "\n",
              "      async function convertToInteractive(key) {\n",
              "        const element = document.querySelector('#df-4de1ab9b-27f6-4ba6-a598-1af87668c27e');\n",
              "        const dataTable =\n",
              "          await google.colab.kernel.invokeFunction('convertToInteractive',\n",
              "                                                    [key], {});\n",
              "        if (!dataTable) return;\n",
              "\n",
              "        const docLinkHtml = 'Like what you see? Visit the ' +\n",
              "          '<a target=\"_blank\" href=https://colab.research.google.com/notebooks/data_table.ipynb>data table notebook</a>'\n",
              "          + ' to learn more about interactive tables.';\n",
              "        element.innerHTML = '';\n",
              "        dataTable['output_type'] = 'display_data';\n",
              "        await google.colab.output.renderOutput(dataTable, element);\n",
              "        const docLink = document.createElement('div');\n",
              "        docLink.innerHTML = docLinkHtml;\n",
              "        element.appendChild(docLink);\n",
              "      }\n",
              "    </script>\n",
              "  </div>\n",
              "\n",
              "\n",
              "<div id=\"df-ad029888-cc0d-4aa2-bec0-6ae466cc4c9d\">\n",
              "  <button class=\"colab-df-quickchart\" onclick=\"quickchart('df-ad029888-cc0d-4aa2-bec0-6ae466cc4c9d')\"\n",
              "            title=\"Suggest charts\"\n",
              "            style=\"display:none;\">\n",
              "\n",
              "<svg xmlns=\"http://www.w3.org/2000/svg\" height=\"24px\"viewBox=\"0 0 24 24\"\n",
              "     width=\"24px\">\n",
              "    <g>\n",
              "        <path d=\"M19 3H5c-1.1 0-2 .9-2 2v14c0 1.1.9 2 2 2h14c1.1 0 2-.9 2-2V5c0-1.1-.9-2-2-2zM9 17H7v-7h2v7zm4 0h-2V7h2v10zm4 0h-2v-4h2v4z\"/>\n",
              "    </g>\n",
              "</svg>\n",
              "  </button>\n",
              "\n",
              "<style>\n",
              "  .colab-df-quickchart {\n",
              "      --bg-color: #E8F0FE;\n",
              "      --fill-color: #1967D2;\n",
              "      --hover-bg-color: #E2EBFA;\n",
              "      --hover-fill-color: #174EA6;\n",
              "      --disabled-fill-color: #AAA;\n",
              "      --disabled-bg-color: #DDD;\n",
              "  }\n",
              "\n",
              "  [theme=dark] .colab-df-quickchart {\n",
              "      --bg-color: #3B4455;\n",
              "      --fill-color: #D2E3FC;\n",
              "      --hover-bg-color: #434B5C;\n",
              "      --hover-fill-color: #FFFFFF;\n",
              "      --disabled-bg-color: #3B4455;\n",
              "      --disabled-fill-color: #666;\n",
              "  }\n",
              "\n",
              "  .colab-df-quickchart {\n",
              "    background-color: var(--bg-color);\n",
              "    border: none;\n",
              "    border-radius: 50%;\n",
              "    cursor: pointer;\n",
              "    display: none;\n",
              "    fill: var(--fill-color);\n",
              "    height: 32px;\n",
              "    padding: 0;\n",
              "    width: 32px;\n",
              "  }\n",
              "\n",
              "  .colab-df-quickchart:hover {\n",
              "    background-color: var(--hover-bg-color);\n",
              "    box-shadow: 0 1px 2px rgba(60, 64, 67, 0.3), 0 1px 3px 1px rgba(60, 64, 67, 0.15);\n",
              "    fill: var(--button-hover-fill-color);\n",
              "  }\n",
              "\n",
              "  .colab-df-quickchart-complete:disabled,\n",
              "  .colab-df-quickchart-complete:disabled:hover {\n",
              "    background-color: var(--disabled-bg-color);\n",
              "    fill: var(--disabled-fill-color);\n",
              "    box-shadow: none;\n",
              "  }\n",
              "\n",
              "  .colab-df-spinner {\n",
              "    border: 2px solid var(--fill-color);\n",
              "    border-color: transparent;\n",
              "    border-bottom-color: var(--fill-color);\n",
              "    animation:\n",
              "      spin 1s steps(1) infinite;\n",
              "  }\n",
              "\n",
              "  @keyframes spin {\n",
              "    0% {\n",
              "      border-color: transparent;\n",
              "      border-bottom-color: var(--fill-color);\n",
              "      border-left-color: var(--fill-color);\n",
              "    }\n",
              "    20% {\n",
              "      border-color: transparent;\n",
              "      border-left-color: var(--fill-color);\n",
              "      border-top-color: var(--fill-color);\n",
              "    }\n",
              "    30% {\n",
              "      border-color: transparent;\n",
              "      border-left-color: var(--fill-color);\n",
              "      border-top-color: var(--fill-color);\n",
              "      border-right-color: var(--fill-color);\n",
              "    }\n",
              "    40% {\n",
              "      border-color: transparent;\n",
              "      border-right-color: var(--fill-color);\n",
              "      border-top-color: var(--fill-color);\n",
              "    }\n",
              "    60% {\n",
              "      border-color: transparent;\n",
              "      border-right-color: var(--fill-color);\n",
              "    }\n",
              "    80% {\n",
              "      border-color: transparent;\n",
              "      border-right-color: var(--fill-color);\n",
              "      border-bottom-color: var(--fill-color);\n",
              "    }\n",
              "    90% {\n",
              "      border-color: transparent;\n",
              "      border-bottom-color: var(--fill-color);\n",
              "    }\n",
              "  }\n",
              "</style>\n",
              "\n",
              "  <script>\n",
              "    async function quickchart(key) {\n",
              "      const quickchartButtonEl =\n",
              "        document.querySelector('#' + key + ' button');\n",
              "      quickchartButtonEl.disabled = true;  // To prevent multiple clicks.\n",
              "      quickchartButtonEl.classList.add('colab-df-spinner');\n",
              "      try {\n",
              "        const charts = await google.colab.kernel.invokeFunction(\n",
              "            'suggestCharts', [key], {});\n",
              "      } catch (error) {\n",
              "        console.error('Error during call to suggestCharts:', error);\n",
              "      }\n",
              "      quickchartButtonEl.classList.remove('colab-df-spinner');\n",
              "      quickchartButtonEl.classList.add('colab-df-quickchart-complete');\n",
              "    }\n",
              "    (() => {\n",
              "      let quickchartButtonEl =\n",
              "        document.querySelector('#df-ad029888-cc0d-4aa2-bec0-6ae466cc4c9d button');\n",
              "      quickchartButtonEl.style.display =\n",
              "        google.colab.kernel.accessAllowed ? 'block' : 'none';\n",
              "    })();\n",
              "  </script>\n",
              "</div>\n",
              "\n",
              "    </div>\n",
              "  </div>\n"
            ],
            "application/vnd.google.colaboratory.intrinsic+json": {
              "type": "dataframe",
              "variable_name": "df_sub",
              "summary": "{\n  \"name\": \"df_sub\",\n  \"rows\": 1870,\n  \"fields\": [\n    {\n      \"column\": \"county\",\n      \"properties\": {\n        \"dtype\": \"category\",\n        \"num_unique_values\": 1,\n        \"samples\": [\n          \"Harris\"\n        ],\n        \"semantic_type\": \"\",\n        \"description\": \"\"\n      }\n    },\n    {\n      \"column\": \"city\",\n      \"properties\": {\n        \"dtype\": \"category\",\n        \"num_unique_values\": 4,\n        \"samples\": [\n          \"Baytown\"\n        ],\n        \"semantic_type\": \"\",\n        \"description\": \"\"\n      }\n    },\n    {\n      \"column\": \"local_site_name\",\n      \"properties\": {\n        \"dtype\": \"category\",\n        \"num_unique_values\": 7,\n        \"samples\": [\n          \"Houston Bayland Park\"\n        ],\n        \"semantic_type\": \"\",\n        \"description\": \"\"\n      }\n    },\n    {\n      \"column\": \"date_local\",\n      \"properties\": {\n        \"dtype\": \"object\",\n        \"num_unique_values\": 31,\n        \"samples\": [\n          \"2024-01-31\"\n        ],\n        \"semantic_type\": \"\",\n        \"description\": \"\"\n      }\n    },\n    {\n      \"column\": \"sample_duration\",\n      \"properties\": {\n        \"dtype\": \"category\",\n        \"num_unique_values\": 2,\n        \"samples\": [\n          \"24-HR BLK AVG\"\n        ],\n        \"semantic_type\": \"\",\n        \"description\": \"\"\n      }\n    },\n    {\n      \"column\": \"parameter\",\n      \"properties\": {\n        \"dtype\": \"category\",\n        \"num_unique_values\": 1,\n        \"samples\": [\n          \"PM2.5 - Local Conditions\"\n        ],\n        \"semantic_type\": \"\",\n        \"description\": \"\"\n      }\n    },\n    {\n      \"column\": \"poc\",\n      \"properties\": {\n        \"dtype\": \"number\",\n        \"std\": 1,\n        \"min\": 1,\n        \"max\": 6,\n        \"num_unique_values\": 4,\n        \"samples\": [\n          2\n        ],\n        \"semantic_type\": \"\",\n        \"description\": \"\"\n      }\n    },\n    {\n      \"column\": \"observation_count\",\n      \"properties\": {\n        \"dtype\": \"number\",\n        \"std\": 7,\n        \"min\": 1,\n        \"max\": 24,\n        \"num_unique_values\": 12,\n        \"samples\": [\n          14\n        ],\n        \"semantic_type\": \"\",\n        \"description\": \"\"\n      }\n    },\n    {\n      \"column\": \"observation_percent\",\n      \"properties\": {\n        \"dtype\": \"number\",\n        \"std\": 3.5548003733503406,\n        \"min\": 4.0,\n        \"max\": 100.0,\n        \"num_unique_values\": 12,\n        \"samples\": [\n          58.0\n        ],\n        \"semantic_type\": \"\",\n        \"description\": \"\"\n      }\n    },\n    {\n      \"column\": \"arithmetic_mean\",\n      \"properties\": {\n        \"dtype\": \"number\",\n        \"std\": 11.64515869303469,\n        \"min\": 2.1,\n        \"max\": 234.0,\n        \"num_unique_values\": 294,\n        \"samples\": [\n          11.9\n        ],\n        \"semantic_type\": \"\",\n        \"description\": \"\"\n      }\n    },\n    {\n      \"column\": \"first_max_value\",\n      \"properties\": {\n        \"dtype\": \"number\",\n        \"std\": 18.219550762448467,\n        \"min\": 2.1,\n        \"max\": 415.0,\n        \"num_unique_values\": 207,\n        \"samples\": [\n          16.7\n        ],\n        \"semantic_type\": \"\",\n        \"description\": \"\"\n      }\n    },\n    {\n      \"column\": \"first_max_hour\",\n      \"properties\": {\n        \"dtype\": \"number\",\n        \"std\": 4,\n        \"min\": 0,\n        \"max\": 23,\n        \"num_unique_values\": 24,\n        \"samples\": [\n          8\n        ],\n        \"semantic_type\": \"\",\n        \"description\": \"\"\n      }\n    },\n    {\n      \"column\": \"aqi\",\n      \"properties\": {\n        \"dtype\": \"number\",\n        \"std\": 20.561746572578247,\n        \"min\": 12.0,\n        \"max\": 318.0,\n        \"num_unique_values\": 55,\n        \"samples\": [\n          31.0\n        ],\n        \"semantic_type\": \"\",\n        \"description\": \"\"\n      }\n    }\n  ]\n}"
            }
          },
          "metadata": {},
          "execution_count": 3
        }
      ]
    },
    {
      "cell_type": "markdown",
      "source": [
        "## Data Storage\n",
        "\n",
        "The steps that we will take to store our data are:\n",
        "\n",
        "\n",
        "\n",
        "*   Create a database connection using the SQLite Library\n",
        "*   Define a schema\n",
        "\n",
        "*   Insert the df into the database\n",
        "*   Test with a query\n",
        "\n",
        "\n",
        "\n",
        "\n"
      ],
      "metadata": {
        "id": "v_ANeL5Yw5fz"
      }
    },
    {
      "cell_type": "code",
      "source": [
        "# Creating connection\n",
        "con = sq.connect('air_quality.db')\n",
        "\n",
        "# Defining Schema\n",
        "create_table = \"\"\"\n",
        "CREATE TABLE IF NOT EXISTS air_quality (\n",
        "  county TEXT,\n",
        "  city TEXT,\n",
        "  local_site_name TEXT,\n",
        "  date_local TEXT,\n",
        "  sample_duration REAL,\n",
        "  parameter TEXT,\n",
        "  poc REAL,\n",
        "  observation_count REAL,\n",
        "  observation_percent REAL,\n",
        "  arithmetic_mean REAL,\n",
        "  first_max_value REAL,\n",
        "  first_max_hour REAL,\n",
        "  aqi REAL\n",
        "\n",
        ");\n",
        "\"\"\"\n",
        "\n",
        "con.execute(create_table)\n",
        "con.commit()"
      ],
      "metadata": {
        "id": "PGwFK4vYw9FO"
      },
      "execution_count": 4,
      "outputs": []
    },
    {
      "cell_type": "code",
      "source": [
        "# Inserting data\n",
        "df_sub.to_sql('air_quality', con, if_exists = 'replace', index = False)\n",
        "\n",
        "# Verifying query\n",
        "query = 'SELECT * FROM air_quality LIMIT 5'\n",
        "result = pd.read_sql(query, con)\n",
        "print(result)"
      ],
      "metadata": {
        "colab": {
          "base_uri": "https://localhost:8080/"
        },
        "id": "mGYHZUow1-rU",
        "outputId": "a080be8e-bc02-4000-aa3c-3f047a4e35f0"
      },
      "execution_count": 5,
      "outputs": [
        {
          "output_type": "stream",
          "name": "stdout",
          "text": [
            "   county     city       local_site_name  date_local sample_duration  \\\n",
            "0  Harris  Houston  Houston Bayland Park  2024-01-01          1 HOUR   \n",
            "1  Harris  Houston  Houston Bayland Park  2024-01-01   24-HR BLK AVG   \n",
            "2  Harris  Houston  Houston Bayland Park  2024-01-01   24-HR BLK AVG   \n",
            "3  Harris  Houston  Houston Bayland Park  2024-01-01   24-HR BLK AVG   \n",
            "4  Harris  Houston  Houston Bayland Park  2024-01-01   24-HR BLK AVG   \n",
            "\n",
            "                  parameter  poc  observation_count  observation_percent  \\\n",
            "0  PM2.5 - Local Conditions    1                 24                100.0   \n",
            "1  PM2.5 - Local Conditions    1                  1                100.0   \n",
            "2  PM2.5 - Local Conditions    1                  1                100.0   \n",
            "3  PM2.5 - Local Conditions    1                  1                100.0   \n",
            "4  PM2.5 - Local Conditions    1                  1                100.0   \n",
            "\n",
            "   arithmetic_mean  first_max_value  first_max_hour    aqi  \n",
            "0        68.891667            415.0               0    NaN  \n",
            "1        68.800000             68.8               0  160.0  \n",
            "2        68.800000             68.8               0  160.0  \n",
            "3        68.800000             68.8               0  160.0  \n",
            "4        68.800000             68.8               0  160.0  \n"
          ]
        }
      ]
    },
    {
      "cell_type": "code",
      "source": [
        "# Closing connection\n",
        "con.close()"
      ],
      "metadata": {
        "id": "qplsNS8r4bTA"
      },
      "execution_count": 6,
      "outputs": []
    },
    {
      "cell_type": "markdown",
      "source": [
        "## Automated Data Pipeline\n",
        "\n",
        "To automate all the steps, I will create methods for each objective, and then one master function that runs all of them.\n",
        "\n",
        "NOTE In the store data function I append the data if the table already exists.\n"
      ],
      "metadata": {
        "id": "CUFB507b4Hgp"
      }
    },
    {
      "cell_type": "code",
      "source": [
        "# Retrieving data\n",
        "def extract_data(endpoint):\n",
        "  response = rq.get(endpoint)\n",
        "  if response.status_code == 200:\n",
        "    data = response.json()\n",
        "  else:\n",
        "    print(f\"Error: {response.status_code}\")\n",
        "    data = None\n",
        "  return data\n",
        "\n",
        "\n",
        "# Converting to df\n",
        "def to_df(data):\n",
        "  json_data = data['Data']\n",
        "  df = pd.DataFrame(json_data)\n",
        "  df_sub = df[['county', 'city', 'local_site_name', 'date_local', 'sample_duration', 'parameter', 'poc', 'observation_count',\n",
        "       'observation_percent', 'arithmetic_mean',\n",
        "       'first_max_value', 'first_max_hour', 'aqi']]\n",
        "  return df_sub\n",
        "\n",
        "\n",
        "# Storing data\n",
        "def store_data(db, df_sub):\n",
        "  con = sq.connect(db)\n",
        "\n",
        "  create_table = \"\"\"\n",
        "  CREATE TABLE IF NOT EXISTS air_quality (\n",
        "    county TEXT,\n",
        "    city TEXT,\n",
        "    local_site_name TEXT,\n",
        "    date_local TEXT,\n",
        "    sample_duration REAL,\n",
        "    parameter TEXT,\n",
        "    poc REAL,\n",
        "    observation_count REAL,\n",
        "    observation_percent REAL,\n",
        "    arithmetic_mean REAL,\n",
        "    first_max_value REAL,\n",
        "    first_max_hour REAL,\n",
        "    aqi REAL\n",
        "\n",
        "  );\n",
        "  \"\"\"\n",
        "\n",
        "  con.execute(create_table)\n",
        "  con.commit()\n",
        "\n",
        "  df_sub.to_sql('air_quality', con, if_exists = 'append', index = False)\n",
        "  con.close()"
      ],
      "metadata": {
        "id": "QgP9hcz24Ksl"
      },
      "execution_count": 7,
      "outputs": []
    },
    {
      "cell_type": "markdown",
      "source": [
        "### Master Function"
      ],
      "metadata": {
        "id": "6ViEaZ7x70Lb"
      }
    },
    {
      "cell_type": "code",
      "source": [
        "def run_pipeline(endpoint, db):\n",
        "  data = extract_data(endpoint)\n",
        "  if data:\n",
        "    df_sub = to_df(data)\n",
        "    store_data(db, df_sub)\n",
        "\n",
        "# Example endpoint and db\n",
        "# Let's add data from travis county (county = 453)\n",
        "endpoint = \"https://aqs.epa.gov/data/api/dailyData/byCounty?email=ibrahim.noman788@gmail.com&key=bluegoose83&param=88101&bdate=20240101&edate=20240131&state=48&county=453\"\n",
        "db = 'air_quality.db'\n",
        "\n",
        "run_pipeline(endpoint, db)"
      ],
      "metadata": {
        "id": "kFdZLZnN74bi"
      },
      "execution_count": 8,
      "outputs": []
    },
    {
      "cell_type": "markdown",
      "source": [
        "### Testing\n",
        "\n",
        "From the code below, we can see that now we have data for two counties: Harris and Travis."
      ],
      "metadata": {
        "id": "aB8_ogkR9NMm"
      }
    },
    {
      "cell_type": "code",
      "source": [
        "# Opening connection\n",
        "con = sq.connect(db)\n",
        "\n",
        "query = 'SELECT DISTINCT(county) FROM air_quality'\n",
        "result = pd.read_sql(query, con)\n",
        "print(result)"
      ],
      "metadata": {
        "colab": {
          "base_uri": "https://localhost:8080/"
        },
        "id": "sUrgB0F99P84",
        "outputId": "21ea0ae3-9837-48f2-d0a8-2127fc11f26a"
      },
      "execution_count": 9,
      "outputs": [
        {
          "output_type": "stream",
          "name": "stdout",
          "text": [
            "   county\n",
            "0  Harris\n",
            "1  Travis\n"
          ]
        }
      ]
    },
    {
      "cell_type": "code",
      "source": [
        "con.close()"
      ],
      "metadata": {
        "id": "HKgdJIOT-LGN"
      },
      "execution_count": 10,
      "outputs": []
    },
    {
      "cell_type": "markdown",
      "source": [
        "## Data  Analysis\n",
        "\n",
        "Now that we have created a data pipeline, let's analyize our data to see if we can better understand air quality between the two counties."
      ],
      "metadata": {
        "id": "3ukkwFjdNFkz"
      }
    },
    {
      "cell_type": "code",
      "source": [
        "# Extracting data\n",
        "db = 'air_quality.db'\n",
        "con = sq.connect(db)\n",
        "query = 'SELECT * FROM air_quality'\n",
        "result = pd.read_sql(query, con)\n",
        "\n",
        "# Storing the query result as a df\n",
        "query_df = pd.DataFrame(result)\n",
        "query_df.describe()"
      ],
      "metadata": {
        "colab": {
          "base_uri": "https://localhost:8080/",
          "height": 300
        },
        "id": "34Zk3xZyNJrE",
        "outputId": "6910bdc0-c4cd-4ba8-b24e-332e20abc1dc"
      },
      "execution_count": 11,
      "outputs": [
        {
          "output_type": "execute_result",
          "data": {
            "text/plain": [
              "               poc  observation_count  observation_percent  arithmetic_mean  \\\n",
              "count  2699.000000        2699.000000          2699.000000      2699.000000   \n",
              "mean      2.396814           3.555761            99.785847         9.236595   \n",
              "std       1.632692           7.185108             3.077828         9.997746   \n",
              "min       1.000000           1.000000             4.000000         1.800000   \n",
              "25%       1.000000           1.000000           100.000000         6.080953   \n",
              "50%       2.000000           1.000000           100.000000         8.200000   \n",
              "75%       4.000000           1.000000           100.000000        10.300000   \n",
              "max       6.000000          24.000000           100.000000       234.000000   \n",
              "\n",
              "       first_max_value  first_max_hour          aqi  \n",
              "count      2699.000000     2699.000000  2393.000000  \n",
              "mean         10.808411        1.301964    44.412035  \n",
              "std          16.821747        4.558283    18.887868  \n",
              "min           1.800000        0.000000    10.000000  \n",
              "25%           6.300000        0.000000    33.000000  \n",
              "50%           8.700000        0.000000    46.000000  \n",
              "75%          11.000000        0.000000    53.000000  \n",
              "max         415.000000       23.000000   318.000000  "
            ],
            "text/html": [
              "\n",
              "  <div id=\"df-bbcf5ac1-0baa-4838-8fab-11e312460b59\" class=\"colab-df-container\">\n",
              "    <div>\n",
              "<style scoped>\n",
              "    .dataframe tbody tr th:only-of-type {\n",
              "        vertical-align: middle;\n",
              "    }\n",
              "\n",
              "    .dataframe tbody tr th {\n",
              "        vertical-align: top;\n",
              "    }\n",
              "\n",
              "    .dataframe thead th {\n",
              "        text-align: right;\n",
              "    }\n",
              "</style>\n",
              "<table border=\"1\" class=\"dataframe\">\n",
              "  <thead>\n",
              "    <tr style=\"text-align: right;\">\n",
              "      <th></th>\n",
              "      <th>poc</th>\n",
              "      <th>observation_count</th>\n",
              "      <th>observation_percent</th>\n",
              "      <th>arithmetic_mean</th>\n",
              "      <th>first_max_value</th>\n",
              "      <th>first_max_hour</th>\n",
              "      <th>aqi</th>\n",
              "    </tr>\n",
              "  </thead>\n",
              "  <tbody>\n",
              "    <tr>\n",
              "      <th>count</th>\n",
              "      <td>2699.000000</td>\n",
              "      <td>2699.000000</td>\n",
              "      <td>2699.000000</td>\n",
              "      <td>2699.000000</td>\n",
              "      <td>2699.000000</td>\n",
              "      <td>2699.000000</td>\n",
              "      <td>2393.000000</td>\n",
              "    </tr>\n",
              "    <tr>\n",
              "      <th>mean</th>\n",
              "      <td>2.396814</td>\n",
              "      <td>3.555761</td>\n",
              "      <td>99.785847</td>\n",
              "      <td>9.236595</td>\n",
              "      <td>10.808411</td>\n",
              "      <td>1.301964</td>\n",
              "      <td>44.412035</td>\n",
              "    </tr>\n",
              "    <tr>\n",
              "      <th>std</th>\n",
              "      <td>1.632692</td>\n",
              "      <td>7.185108</td>\n",
              "      <td>3.077828</td>\n",
              "      <td>9.997746</td>\n",
              "      <td>16.821747</td>\n",
              "      <td>4.558283</td>\n",
              "      <td>18.887868</td>\n",
              "    </tr>\n",
              "    <tr>\n",
              "      <th>min</th>\n",
              "      <td>1.000000</td>\n",
              "      <td>1.000000</td>\n",
              "      <td>4.000000</td>\n",
              "      <td>1.800000</td>\n",
              "      <td>1.800000</td>\n",
              "      <td>0.000000</td>\n",
              "      <td>10.000000</td>\n",
              "    </tr>\n",
              "    <tr>\n",
              "      <th>25%</th>\n",
              "      <td>1.000000</td>\n",
              "      <td>1.000000</td>\n",
              "      <td>100.000000</td>\n",
              "      <td>6.080953</td>\n",
              "      <td>6.300000</td>\n",
              "      <td>0.000000</td>\n",
              "      <td>33.000000</td>\n",
              "    </tr>\n",
              "    <tr>\n",
              "      <th>50%</th>\n",
              "      <td>2.000000</td>\n",
              "      <td>1.000000</td>\n",
              "      <td>100.000000</td>\n",
              "      <td>8.200000</td>\n",
              "      <td>8.700000</td>\n",
              "      <td>0.000000</td>\n",
              "      <td>46.000000</td>\n",
              "    </tr>\n",
              "    <tr>\n",
              "      <th>75%</th>\n",
              "      <td>4.000000</td>\n",
              "      <td>1.000000</td>\n",
              "      <td>100.000000</td>\n",
              "      <td>10.300000</td>\n",
              "      <td>11.000000</td>\n",
              "      <td>0.000000</td>\n",
              "      <td>53.000000</td>\n",
              "    </tr>\n",
              "    <tr>\n",
              "      <th>max</th>\n",
              "      <td>6.000000</td>\n",
              "      <td>24.000000</td>\n",
              "      <td>100.000000</td>\n",
              "      <td>234.000000</td>\n",
              "      <td>415.000000</td>\n",
              "      <td>23.000000</td>\n",
              "      <td>318.000000</td>\n",
              "    </tr>\n",
              "  </tbody>\n",
              "</table>\n",
              "</div>\n",
              "    <div class=\"colab-df-buttons\">\n",
              "\n",
              "  <div class=\"colab-df-container\">\n",
              "    <button class=\"colab-df-convert\" onclick=\"convertToInteractive('df-bbcf5ac1-0baa-4838-8fab-11e312460b59')\"\n",
              "            title=\"Convert this dataframe to an interactive table.\"\n",
              "            style=\"display:none;\">\n",
              "\n",
              "  <svg xmlns=\"http://www.w3.org/2000/svg\" height=\"24px\" viewBox=\"0 -960 960 960\">\n",
              "    <path d=\"M120-120v-720h720v720H120Zm60-500h600v-160H180v160Zm220 220h160v-160H400v160Zm0 220h160v-160H400v160ZM180-400h160v-160H180v160Zm440 0h160v-160H620v160ZM180-180h160v-160H180v160Zm440 0h160v-160H620v160Z\"/>\n",
              "  </svg>\n",
              "    </button>\n",
              "\n",
              "  <style>\n",
              "    .colab-df-container {\n",
              "      display:flex;\n",
              "      gap: 12px;\n",
              "    }\n",
              "\n",
              "    .colab-df-convert {\n",
              "      background-color: #E8F0FE;\n",
              "      border: none;\n",
              "      border-radius: 50%;\n",
              "      cursor: pointer;\n",
              "      display: none;\n",
              "      fill: #1967D2;\n",
              "      height: 32px;\n",
              "      padding: 0 0 0 0;\n",
              "      width: 32px;\n",
              "    }\n",
              "\n",
              "    .colab-df-convert:hover {\n",
              "      background-color: #E2EBFA;\n",
              "      box-shadow: 0px 1px 2px rgba(60, 64, 67, 0.3), 0px 1px 3px 1px rgba(60, 64, 67, 0.15);\n",
              "      fill: #174EA6;\n",
              "    }\n",
              "\n",
              "    .colab-df-buttons div {\n",
              "      margin-bottom: 4px;\n",
              "    }\n",
              "\n",
              "    [theme=dark] .colab-df-convert {\n",
              "      background-color: #3B4455;\n",
              "      fill: #D2E3FC;\n",
              "    }\n",
              "\n",
              "    [theme=dark] .colab-df-convert:hover {\n",
              "      background-color: #434B5C;\n",
              "      box-shadow: 0px 1px 3px 1px rgba(0, 0, 0, 0.15);\n",
              "      filter: drop-shadow(0px 1px 2px rgba(0, 0, 0, 0.3));\n",
              "      fill: #FFFFFF;\n",
              "    }\n",
              "  </style>\n",
              "\n",
              "    <script>\n",
              "      const buttonEl =\n",
              "        document.querySelector('#df-bbcf5ac1-0baa-4838-8fab-11e312460b59 button.colab-df-convert');\n",
              "      buttonEl.style.display =\n",
              "        google.colab.kernel.accessAllowed ? 'block' : 'none';\n",
              "\n",
              "      async function convertToInteractive(key) {\n",
              "        const element = document.querySelector('#df-bbcf5ac1-0baa-4838-8fab-11e312460b59');\n",
              "        const dataTable =\n",
              "          await google.colab.kernel.invokeFunction('convertToInteractive',\n",
              "                                                    [key], {});\n",
              "        if (!dataTable) return;\n",
              "\n",
              "        const docLinkHtml = 'Like what you see? Visit the ' +\n",
              "          '<a target=\"_blank\" href=https://colab.research.google.com/notebooks/data_table.ipynb>data table notebook</a>'\n",
              "          + ' to learn more about interactive tables.';\n",
              "        element.innerHTML = '';\n",
              "        dataTable['output_type'] = 'display_data';\n",
              "        await google.colab.output.renderOutput(dataTable, element);\n",
              "        const docLink = document.createElement('div');\n",
              "        docLink.innerHTML = docLinkHtml;\n",
              "        element.appendChild(docLink);\n",
              "      }\n",
              "    </script>\n",
              "  </div>\n",
              "\n",
              "\n",
              "<div id=\"df-96b88f9a-73e2-48f0-b56d-9f4a958af7e3\">\n",
              "  <button class=\"colab-df-quickchart\" onclick=\"quickchart('df-96b88f9a-73e2-48f0-b56d-9f4a958af7e3')\"\n",
              "            title=\"Suggest charts\"\n",
              "            style=\"display:none;\">\n",
              "\n",
              "<svg xmlns=\"http://www.w3.org/2000/svg\" height=\"24px\"viewBox=\"0 0 24 24\"\n",
              "     width=\"24px\">\n",
              "    <g>\n",
              "        <path d=\"M19 3H5c-1.1 0-2 .9-2 2v14c0 1.1.9 2 2 2h14c1.1 0 2-.9 2-2V5c0-1.1-.9-2-2-2zM9 17H7v-7h2v7zm4 0h-2V7h2v10zm4 0h-2v-4h2v4z\"/>\n",
              "    </g>\n",
              "</svg>\n",
              "  </button>\n",
              "\n",
              "<style>\n",
              "  .colab-df-quickchart {\n",
              "      --bg-color: #E8F0FE;\n",
              "      --fill-color: #1967D2;\n",
              "      --hover-bg-color: #E2EBFA;\n",
              "      --hover-fill-color: #174EA6;\n",
              "      --disabled-fill-color: #AAA;\n",
              "      --disabled-bg-color: #DDD;\n",
              "  }\n",
              "\n",
              "  [theme=dark] .colab-df-quickchart {\n",
              "      --bg-color: #3B4455;\n",
              "      --fill-color: #D2E3FC;\n",
              "      --hover-bg-color: #434B5C;\n",
              "      --hover-fill-color: #FFFFFF;\n",
              "      --disabled-bg-color: #3B4455;\n",
              "      --disabled-fill-color: #666;\n",
              "  }\n",
              "\n",
              "  .colab-df-quickchart {\n",
              "    background-color: var(--bg-color);\n",
              "    border: none;\n",
              "    border-radius: 50%;\n",
              "    cursor: pointer;\n",
              "    display: none;\n",
              "    fill: var(--fill-color);\n",
              "    height: 32px;\n",
              "    padding: 0;\n",
              "    width: 32px;\n",
              "  }\n",
              "\n",
              "  .colab-df-quickchart:hover {\n",
              "    background-color: var(--hover-bg-color);\n",
              "    box-shadow: 0 1px 2px rgba(60, 64, 67, 0.3), 0 1px 3px 1px rgba(60, 64, 67, 0.15);\n",
              "    fill: var(--button-hover-fill-color);\n",
              "  }\n",
              "\n",
              "  .colab-df-quickchart-complete:disabled,\n",
              "  .colab-df-quickchart-complete:disabled:hover {\n",
              "    background-color: var(--disabled-bg-color);\n",
              "    fill: var(--disabled-fill-color);\n",
              "    box-shadow: none;\n",
              "  }\n",
              "\n",
              "  .colab-df-spinner {\n",
              "    border: 2px solid var(--fill-color);\n",
              "    border-color: transparent;\n",
              "    border-bottom-color: var(--fill-color);\n",
              "    animation:\n",
              "      spin 1s steps(1) infinite;\n",
              "  }\n",
              "\n",
              "  @keyframes spin {\n",
              "    0% {\n",
              "      border-color: transparent;\n",
              "      border-bottom-color: var(--fill-color);\n",
              "      border-left-color: var(--fill-color);\n",
              "    }\n",
              "    20% {\n",
              "      border-color: transparent;\n",
              "      border-left-color: var(--fill-color);\n",
              "      border-top-color: var(--fill-color);\n",
              "    }\n",
              "    30% {\n",
              "      border-color: transparent;\n",
              "      border-left-color: var(--fill-color);\n",
              "      border-top-color: var(--fill-color);\n",
              "      border-right-color: var(--fill-color);\n",
              "    }\n",
              "    40% {\n",
              "      border-color: transparent;\n",
              "      border-right-color: var(--fill-color);\n",
              "      border-top-color: var(--fill-color);\n",
              "    }\n",
              "    60% {\n",
              "      border-color: transparent;\n",
              "      border-right-color: var(--fill-color);\n",
              "    }\n",
              "    80% {\n",
              "      border-color: transparent;\n",
              "      border-right-color: var(--fill-color);\n",
              "      border-bottom-color: var(--fill-color);\n",
              "    }\n",
              "    90% {\n",
              "      border-color: transparent;\n",
              "      border-bottom-color: var(--fill-color);\n",
              "    }\n",
              "  }\n",
              "</style>\n",
              "\n",
              "  <script>\n",
              "    async function quickchart(key) {\n",
              "      const quickchartButtonEl =\n",
              "        document.querySelector('#' + key + ' button');\n",
              "      quickchartButtonEl.disabled = true;  // To prevent multiple clicks.\n",
              "      quickchartButtonEl.classList.add('colab-df-spinner');\n",
              "      try {\n",
              "        const charts = await google.colab.kernel.invokeFunction(\n",
              "            'suggestCharts', [key], {});\n",
              "      } catch (error) {\n",
              "        console.error('Error during call to suggestCharts:', error);\n",
              "      }\n",
              "      quickchartButtonEl.classList.remove('colab-df-spinner');\n",
              "      quickchartButtonEl.classList.add('colab-df-quickchart-complete');\n",
              "    }\n",
              "    (() => {\n",
              "      let quickchartButtonEl =\n",
              "        document.querySelector('#df-96b88f9a-73e2-48f0-b56d-9f4a958af7e3 button');\n",
              "      quickchartButtonEl.style.display =\n",
              "        google.colab.kernel.accessAllowed ? 'block' : 'none';\n",
              "    })();\n",
              "  </script>\n",
              "</div>\n",
              "\n",
              "    </div>\n",
              "  </div>\n"
            ],
            "application/vnd.google.colaboratory.intrinsic+json": {
              "type": "dataframe",
              "summary": "{\n  \"name\": \"query_df\",\n  \"rows\": 8,\n  \"fields\": [\n    {\n      \"column\": \"poc\",\n      \"properties\": {\n        \"dtype\": \"number\",\n        \"std\": 953.3314701338237,\n        \"min\": 1.0,\n        \"max\": 2699.0,\n        \"num_unique_values\": 7,\n        \"samples\": [\n          2699.0,\n          2.396813634679511,\n          4.0\n        ],\n        \"semantic_type\": \"\",\n        \"description\": \"\"\n      }\n    },\n    {\n      \"column\": \"observation_count\",\n      \"properties\": {\n        \"dtype\": \"number\",\n        \"std\": 952.3161341488673,\n        \"min\": 1.0,\n        \"max\": 2699.0,\n        \"num_unique_values\": 5,\n        \"samples\": [\n          3.5557613931085585,\n          24.0,\n          7.185108300245923\n        ],\n        \"semantic_type\": \"\",\n        \"description\": \"\"\n      }\n    },\n    {\n      \"column\": \"observation_percent\",\n      \"properties\": {\n        \"dtype\": \"number\",\n        \"std\": 929.6611095918244,\n        \"min\": 3.0778278408844173,\n        \"max\": 2699.0,\n        \"num_unique_values\": 5,\n        \"samples\": [\n          99.7858466098555,\n          100.0,\n          3.0778278408844173\n        ],\n        \"semantic_type\": \"\",\n        \"description\": \"\"\n      }\n    },\n    {\n      \"column\": \"arithmetic_mean\",\n      \"properties\": {\n        \"dtype\": \"number\",\n        \"std\": 943.4539268121706,\n        \"min\": 1.8,\n        \"max\": 2699.0,\n        \"num_unique_values\": 8,\n        \"samples\": [\n          9.236594942200815,\n          8.2,\n          2699.0\n        ],\n        \"semantic_type\": \"\",\n        \"description\": \"\"\n      }\n    },\n    {\n      \"column\": \"first_max_value\",\n      \"properties\": {\n        \"dtype\": \"number\",\n        \"std\": 941.2608923681214,\n        \"min\": 1.8,\n        \"max\": 2699.0,\n        \"num_unique_values\": 8,\n        \"samples\": [\n          10.80841052241571,\n          8.7,\n          2699.0\n        ],\n        \"semantic_type\": \"\",\n        \"description\": \"\"\n      }\n    },\n    {\n      \"column\": \"first_max_hour\",\n      \"properties\": {\n        \"dtype\": \"number\",\n        \"std\": 952.8153607808584,\n        \"min\": 0.0,\n        \"max\": 2699.0,\n        \"num_unique_values\": 5,\n        \"samples\": [\n          1.3019636902556502,\n          23.0,\n          4.558283281683113\n        ],\n        \"semantic_type\": \"\",\n        \"description\": \"\"\n      }\n    },\n    {\n      \"column\": \"aqi\",\n      \"properties\": {\n        \"dtype\": \"number\",\n        \"std\": 825.7391095909743,\n        \"min\": 10.0,\n        \"max\": 2393.0,\n        \"num_unique_values\": 8,\n        \"samples\": [\n          44.41203510238195,\n          46.0,\n          2393.0\n        ],\n        \"semantic_type\": \"\",\n        \"description\": \"\"\n      }\n    }\n  ]\n}"
            }
          },
          "metadata": {},
          "execution_count": 11
        }
      ]
    },
    {
      "cell_type": "markdown",
      "source": [
        "# Air Quality Index (AQI)\n",
        "\n",
        "As defined by the [National Weather Serivce](https://www.weather.gov/safety/airquality-aqindex), the Air Quality Index tells us how clean or polluted the air is, and what associated health effects might be a concern for you. In short, the higher the AQI,the worse. Below, we will:\n",
        "\n",
        "\n",
        "\n",
        "*   Take a look at the distribution of AQI accross both counties\n",
        "*   Examine if there is a difference between counties\n",
        "\n",
        "\n",
        "\n"
      ],
      "metadata": {
        "id": "3-vM2sZvOg6q"
      }
    },
    {
      "cell_type": "code",
      "source": [
        "# Getting AQI\n",
        "aqi = query_df['aqi']\n",
        "mp.hist(aqi)\n",
        "\n",
        "# Plot\n",
        "mp.xlabel('AQI')\n",
        "mp.ylabel('Frequency')\n",
        "mp.title('Distribution of AQI accross Harris and Travis County')\n",
        "mp.show()"
      ],
      "metadata": {
        "colab": {
          "base_uri": "https://localhost:8080/",
          "height": 472
        },
        "id": "v-LjnPAsOeVU",
        "outputId": "1201bff7-2be4-44a0-b948-21587291c473"
      },
      "execution_count": 12,
      "outputs": [
        {
          "output_type": "display_data",
          "data": {
            "text/plain": [
              "<Figure size 640x480 with 1 Axes>"
            ],
            "image/png": "[encoded data removed]"
          },
          "metadata": {}
        }
      ]
    },
    {
      "cell_type": "markdown",
      "source": [
        "From the plot above, we can see that the majority of our AQI data points fall close to 50. This is a good sign, because this means our air quality is moderate. However, this plot can be misleading because here might be overlapping differences between the two counties. To better understand the distribution of AQI, let's make to separate plots of each county."
      ],
      "metadata": {
        "id": "l6imHBYrTcIX"
      }
    },
    {
      "cell_type": "code",
      "source": [
        "# Getting data for each county\n",
        "travis_aqi = query_df[query_df['county'] == 'Travis']['aqi']\n",
        "harris_aqi = query_df[query_df['county'] == 'Harris']['aqi']\n",
        "\n",
        "# Plotting the two histograms\n",
        "mp.figure()\n",
        "mp.hist(travis_aqi, label = 'Travis', color = 'blue')\n",
        "mp.xlabel('AQI')\n",
        "mp.ylabel('Frequency')\n",
        "mp.title('Travis County AQI')\n",
        "mp.show()\n",
        "\n",
        "mp.figure()\n",
        "mp.hist(harris_aqi, label = 'Harris', color = 'green')\n",
        "mp.xlabel('AQI')\n",
        "mp.ylabel('Frequency')\n",
        "mp.title('Harris County AQI')\n",
        "mp.show()"
      ],
      "metadata": {
        "colab": {
          "base_uri": "https://localhost:8080/",
          "height": 927
        },
        "id": "sVnR3xckTtFo",
        "outputId": "c8985ab9-e816-420a-bcf7-876c213123e0"
      },
      "execution_count": 13,
      "outputs": [
        {
          "output_type": "display_data",
          "data": {
            "text/plain": [
              "<Figure size 640x480 with 1 Axes>"
            ],
            "image/png": "[encoded data removed]"
          },
          "metadata": {}
        },
        {
          "output_type": "display_data",
          "data": {
            "text/plain": [
              "<Figure size 640x480 with 1 Axes>"
            ],
            "image/png": "[encoded data removed]"
          },
          "metadata": {}
        }
      ]
    },
    {
      "cell_type": "markdown",
      "source": [
        "Wow! We can see that the distribution for Harris County is on the much larger range compared to Travis County. Even though Travis County is  considered the [5th most popolous county in Texas](https://en.wikipedia.org/wiki/Travis_County,_Texas), it still releases less emissions coompared to a suburban county like Harris."
      ],
      "metadata": {
        "id": "_va94SNX1lbS"
      }
    },
    {
      "cell_type": "markdown",
      "source": [
        "# Mean"
      ],
      "metadata": {
        "id": "8cYtycn06aYB"
      }
    },
    {
      "cell_type": "markdown",
      "source": [
        "Now, let's look at the mean of both counties to further build on this finding.\n",
        "\n",
        "As stated earlier, the distribution of mean looks a lot better for Travis County. Most values range between 5 and 15.\n",
        "\n",
        "On the other hand, the AQI mean for Harris County needs much more work."
      ],
      "metadata": {
        "id": "B9OoXd-o6RSr"
      }
    },
    {
      "cell_type": "code",
      "source": [
        "# Getting data for each county\n",
        "travis_aqi = query_df[query_df['county'] == 'Travis']['arithmetic_mean']\n",
        "harris_aqi = query_df[query_df['county'] == 'Harris']['arithmetic_mean']\n",
        "\n",
        "# Plotting the two histograms\n",
        "mp.figure()\n",
        "mp.hist(travis_aqi, label = 'Travis', color = 'yellow')\n",
        "mp.xlabel('Mean')\n",
        "mp.ylabel('Frequency')\n",
        "mp.title('Travis County Mean')\n",
        "mp.show()\n",
        "\n",
        "mp.figure()\n",
        "mp.hist(harris_aqi, label = 'Harris', color = 'red')\n",
        "mp.xlabel('Mean')\n",
        "mp.ylabel('Frequency')\n",
        "mp.title('Harris County Mean')\n",
        "mp.show()"
      ],
      "metadata": {
        "colab": {
          "base_uri": "https://localhost:8080/",
          "height": 927
        },
        "id": "jU42v59H2OJJ",
        "outputId": "40f77c7c-c0f3-46ed-e190-0d9237fbf7b2"
      },
      "execution_count": 14,
      "outputs": [
        {
          "output_type": "display_data",
          "data": {
            "text/plain": [
              "<Figure size 640x480 with 1 Axes>"
            ],
            "image/png": "[encoded data removed]"
          },
          "metadata": {}
        },
        {
          "output_type": "display_data",
          "data": {
            "text/plain": [
              "<Figure size 640x480 with 1 Axes>"
            ],
            "image/png": "[encoded data removed]"
          },
          "metadata": {}
        }
      ]
    },
    {
      "cell_type": "markdown",
      "source": [
        "# Sample Duration\n",
        "\n",
        "We have identified that Harris County has a worse air quality compared to Travis County, but it is also important to account for sample duration.\n",
        "\n",
        "As it sounds, thee sample duration is the duration of the sample period, typically indicating the time over which the air quality measurement was averaged.\n",
        "\n"
      ],
      "metadata": {
        "id": "VJ6JcAsuAC4w"
      }
    },
    {
      "cell_type": "code",
      "source": [
        "# Getting Sample Duration\n",
        "samp_dur = query_df['sample_duration']\n",
        "mp.hist(samp_dur, color = 'black')\n",
        "\n",
        "# Plot\n",
        "mp.xlabel('Sample Duration')\n",
        "mp.ylabel('Frequency')\n",
        "mp.title('Distribution of Sample Duration accross Harris and Travis County')\n",
        "mp.show()"
      ],
      "metadata": {
        "colab": {
          "base_uri": "https://localhost:8080/",
          "height": 472
        },
        "id": "Q2CXH01PAVGw",
        "outputId": "ecf18ddb-10a5-4e92-8701-9c69b4e69ca1"
      },
      "execution_count": 15,
      "outputs": [
        {
          "output_type": "display_data",
          "data": {
            "text/plain": [
              "<Figure size 640x480 with 1 Axes>"
            ],
            "image/png": "[encoded data removed]"
          },
          "metadata": {}
        }
      ]
    },
    {
      "cell_type": "markdown",
      "source": [
        "In our data, we have two types of samples: 1 Hour and 24 Hour. The vast majority of observations took place in the 24 Hour Block. Let's compare the 2 types of Durations."
      ],
      "metadata": {
        "id": "4RL-lXgEBqsF"
      }
    },
    {
      "cell_type": "markdown",
      "source": [
        "## 1 Hour Block"
      ],
      "metadata": {
        "id": "_IWc1RFeC8Z7"
      }
    },
    {
      "cell_type": "markdown",
      "source": [
        "After looking deeper, we see that all the values for 1 HOUR blocks are NA.  This makes our analysis a lot easier.\n"
      ],
      "metadata": {
        "id": "-xKO6YXGIJC9"
      }
    },
    {
      "cell_type": "code",
      "source": [
        "# Filtering query data\n",
        "one_hr = query_df.query('sample_duration == \"1 HOUR\"')\n",
        "print(one_hr)"
      ],
      "metadata": {
        "colab": {
          "base_uri": "https://localhost:8080/"
        },
        "id": "HRhwNuj4AY20",
        "outputId": "481201a9-890a-4f88-c247-1f2b582a6d96"
      },
      "execution_count": 16,
      "outputs": [
        {
          "output_type": "stream",
          "name": "stdout",
          "text": [
            "      county     city        local_site_name  date_local sample_duration  \\\n",
            "0     Harris  Houston   Houston Bayland Park  2024-01-01          1 HOUR   \n",
            "9     Harris  Houston   Houston Bayland Park  2024-01-02          1 HOUR   \n",
            "18    Harris  Houston   Houston Bayland Park  2024-01-03          1 HOUR   \n",
            "27    Harris  Houston   Houston Bayland Park  2024-01-04          1 HOUR   \n",
            "36    Harris  Houston   Houston Bayland Park  2024-01-05          1 HOUR   \n",
            "...      ...      ...                    ...         ...             ...   \n",
            "2654  Travis   Austin  Austin Webberville Rd  2024-01-27          1 HOUR   \n",
            "2663  Travis   Austin  Austin Webberville Rd  2024-01-28          1 HOUR   \n",
            "2672  Travis   Austin  Austin Webberville Rd  2024-01-29          1 HOUR   \n",
            "2681  Travis   Austin  Austin Webberville Rd  2024-01-30          1 HOUR   \n",
            "2690  Travis   Austin  Austin Webberville Rd  2024-01-31          1 HOUR   \n",
            "\n",
            "                     parameter  poc  observation_count  observation_percent  \\\n",
            "0     PM2.5 - Local Conditions    1                 24                100.0   \n",
            "9     PM2.5 - Local Conditions    1                 22                 92.0   \n",
            "18    PM2.5 - Local Conditions    1                 24                100.0   \n",
            "27    PM2.5 - Local Conditions    1                 24                100.0   \n",
            "36    PM2.5 - Local Conditions    1                 24                100.0   \n",
            "...                        ...  ...                ...                  ...   \n",
            "2654  PM2.5 - Local Conditions    4                 24                100.0   \n",
            "2663  PM2.5 - Local Conditions    4                 24                100.0   \n",
            "2672  PM2.5 - Local Conditions    4                 24                100.0   \n",
            "2681  PM2.5 - Local Conditions    4                 24                100.0   \n",
            "2690  PM2.5 - Local Conditions    4                 24                100.0   \n",
            "\n",
            "      arithmetic_mean  first_max_value  first_max_hour  aqi  \n",
            "0           68.891667            415.0               0  NaN  \n",
            "9           10.113636             15.2              14  NaN  \n",
            "18          10.512500             20.5              23  NaN  \n",
            "27          11.091667             20.9               3  NaN  \n",
            "36           5.220833             13.3              23  NaN  \n",
            "...               ...              ...             ...  ...  \n",
            "2654         4.183333              8.8              20  NaN  \n",
            "2663         5.908333             13.1              23  NaN  \n",
            "2672         7.079167             13.5               0  NaN  \n",
            "2681        10.354167             21.5              23  NaN  \n",
            "2690        10.729167             34.0              22  NaN  \n",
            "\n",
            "[306 rows x 13 columns]\n"
          ]
        }
      ]
    },
    {
      "cell_type": "markdown",
      "source": [
        "# Change over time\n",
        "\n",
        "Lastly, let's take a look aat how AQI changed over the course of January in 2024.\n",
        "\n",
        "From the plot we can see that the AQI remains roughly constant with only a few outliers, now let's split up the two counties."
      ],
      "metadata": {
        "id": "62TEG_O1oG6_"
      }
    },
    {
      "cell_type": "code",
      "source": [
        "# Plot\n",
        "query_df.plot(x = 'date_local',  y = 'aqi', color = 'red')\n",
        "mp.xlabel('Date')\n",
        "mp.ylabel('AQI')\n",
        "mp.title('AQI Over Time')"
      ],
      "metadata": {
        "colab": {
          "base_uri": "https://localhost:8080/",
          "height": 489
        },
        "id": "eWs0WDb1obp5",
        "outputId": "e126af95-2df3-4ff3-b4c6-e51343f4a97a"
      },
      "execution_count": 24,
      "outputs": [
        {
          "output_type": "execute_result",
          "data": {
            "text/plain": [
              "Text(0.5, 1.0, 'AQI Over Time')"
            ]
          },
          "metadata": {},
          "execution_count": 24
        },
        {
          "output_type": "display_data",
          "data": {
            "text/plain": [
              "<Figure size 640x480 with 1 Axes>"
            ],
            "image/png": "[encoded data removed]"
          },
          "metadata": {}
        }
      ]
    },
    {
      "cell_type": "markdown",
      "source": [
        "From the plot below, we can see once again that our AQI Distribution is lower for Travis County"
      ],
      "metadata": {
        "id": "-PYQjndSxR48"
      }
    },
    {
      "cell_type": "code",
      "source": [
        "# Splitting counties\n",
        "travis = query_df.query('county == \"Travis\"')\n",
        "harris = query_df.query('county == \"Harris\"')\n",
        "\n",
        "# Travis\n",
        "travis.plot(x = 'date_local', y = 'aqi', color = 'orange')\n",
        "mp.xlabel('Date')\n",
        "mp.ylabel('AQI')\n",
        "mp.title('AQI Over Time - Travis County')\n",
        "\n",
        "# Harris\n",
        "harris.plot(x = 'date_local', y = 'aqi', color = 'olive')\n",
        "mp.xlabel('Date')\n",
        "mp.ylabel('AQI')\n",
        "mp.title('AQI Over Time - Harris County')"
      ],
      "metadata": {
        "colab": {
          "base_uri": "https://localhost:8080/",
          "height": 944
        },
        "id": "fVpSYsBxqhO4",
        "outputId": "14e4f8c9-f7b6-4e7d-e673-868722140f89"
      },
      "execution_count": 31,
      "outputs": [
        {
          "output_type": "execute_result",
          "data": {
            "text/plain": [
              "Text(0.5, 1.0, 'AQI Over Time - Harris County')"
            ]
          },
          "metadata": {},
          "execution_count": 31
        },
        {
          "output_type": "display_data",
          "data": {
            "text/plain": [
              "<Figure size 640x480 with 1 Axes>"
            ],
            "image/png": "[encoded data removed]"
          },
          "metadata": {}
        },
        {
          "output_type": "display_data",
          "data": {
            "text/plain": [
              "<Figure size 640x480 with 1 Axes>"
            ],
            "image/png": "[encoded data removed]"
          },
          "metadata": {}
        }
      ]
    },
    {
      "cell_type": "markdown",
      "source": [
        "# Conclusion\n",
        "\n",
        "After analysis, we can conclude:\n",
        "\n",
        "\n",
        "\n",
        "*   Travis County had better AQI over the course of January 2024\n",
        "*   There were no 1 Hour samples in our data\n",
        "\n",
        "I learned from this analysis that despite the bad rhetoric, big cities can have better air quality than suburban areas. One reason for this is because suburbs release more carbon emissions per capita compared to big cities. The reasons for this are:\n",
        "\n",
        "\n",
        "\n",
        "*   Big Cities have laws and policy that aim to reduce carbon footprints\n",
        "*   In big cities places are close by, so there is no need for cars, and people tend to use public transportation\n",
        "\n",
        "Overall, this project was really helpful in understanding the distribution of AQI across suburban and urban forms of living.\n",
        "\n",
        "\n",
        "\n"
      ],
      "metadata": {
        "id": "DD0yLXDIxfOo"
      }
    }
  ]
}